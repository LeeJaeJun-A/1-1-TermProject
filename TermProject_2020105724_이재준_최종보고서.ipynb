{
 "cells": [
  {
   "cell_type": "markdown",
   "metadata": {},
   "source": [
    "# League of Legend 승패 예측"
   ]
  },
  {
   "cell_type": "markdown",
   "metadata": {},
   "source": [
    "## 프로젝트 목표 및 내용"
   ]
  },
  {
   "cell_type": "markdown",
   "metadata": {},
   "source": [
    "League of Legend의 2020년 상위 0.07%의 유저들의 게임을 분석하여 게임에서의 다양한 변수 중 어떤 것들이 승리에 큰 영향을 미치는지 알아봄으로써 플레이어들이 승률을 높이기 위해 효율적으로 전략을 수립하는 과정에 도움을 주기위해 프로젝트를 진행하였습니다.<br>\n",
    "피어슨 상관계수를 구하여 각각의 독립변수들과 게임의 승리가 얼마나 밀접한 상관관계를 가지는지 알아보고 시각화한 뒤, 상관계수가 큰 상위 3개의 독립변수를 주요 승리 요건에 해당하는 변수들로 선정하는 것이 첫 번째 목표입니다.<br>\n",
    "독립변수들은 게임 내에서의 다양한 변수들이고, 종속변수가 게임의 승패이므로 다중 로지스틱 회귀분석을 이용하여 학습시킨 뒤, 상관관계 분석을 통해 선별한 독립변수들의 값에 따라 승패를 예측할 수 있는 프로그램을 만드는 것이 두 번째 목표입니다.<br>\n",
    "엑셀로 된 데이터파일을 파이썬을 이용하여 가공하고 분석하며 프로젝트를 진행할 예정이며 프로젝트에 필요한 통계학과 관련된 지식을 공부하면서 데이터 사이언스 분야에 대해 접해보는 것 또한 이 프로젝트의 목적 중 하나 입니다."
   ]
  },
  {
   "cell_type": "markdown",
   "metadata": {},
   "source": [
    "## 주제 선정 이유"
   ]
  },
  {
   "cell_type": "markdown",
   "metadata": {},
   "source": [
    "League of Legend (일명 LOL)은 우리나라 뿐만 아니라 전 세계적으로 인기를 얻고 있는 MOBA 장르의 게임입니다. 또한 전 세계 E 스포츠 대회에서 \n",
    "가장 많은 시청자 수를 기록한 League of Legend world championship과 같은 수많은 e스포츠 대회가 개최되는 등 그 인기를 실감할 수 있습니다.\n",
    "이러한 게임의 인기만큼 대회에 출전하는 선수들뿐만 아니라 일반 플레이어들 또한 게임을 플레이하면서 '승리'하는 것을 중요시하며 이기기 \n",
    "위해 다양한 전략을 세우고 노력을 합니다.<br>\n",
    "선수들의 경우 감독과 코치들이 있어 객관적으로 게임을 분석하고 자신의 플레이를 효율적으로 향상할 수 있지만, 일반 플레이어들의 경우에는 그러한 도움을 받기 어렵기에 자신의 플레이를 향상하는 데 상대적으로 어려움이 있을 것입니다.<br>\n",
    "게임에 대한 이해도가 높은 상위 0.07%의 랭크(마스터, 그랜드 마스터, 챌린저)에 속하는 플레이어들의 게임을 분석함으로써 게임에 대한 이해도가 어느 정도 있다는 가정하에 게임을 이기는 데 어떤 것들이 중요한지 알 수 있을 것입니다. 플레이 중 어떤 요건들이 게임 승리에 크게 영향을 미치는 지, 그에 따른 승리 확률이 얼마나 되는 지 보여줌으로써 일반 플레이어들이 게임에서 이기기 위한 전략을 더욱 효율적으로 짜는 데 도움을 줄 수 있을 것입니다. <br>\n",
    "또한 모델을 더욱 정교화한다면 선수들을 코칭하는 감독들 또한 유용하게 사용할 수 있기에 정교한 수준의 분석 프로그램을 만들기 위한 초석이라 생각하며 이 주제를 선정하였습니다.<br>"
   ]
  },
  {
   "cell_type": "markdown",
   "metadata": {},
   "source": [
    "## 가설 정의"
   ]
  },
  {
   "cell_type": "markdown",
   "metadata": {},
   "source": [
    "게임에서의 다양한 변수 중에 특히 승리에 많은 영향을 끼치는 변수들이 있을 것이고 그러한 변수들이 주요 승리 요건에 해당할 것이다.<br>\n",
    "따라서 주요 승리요건들을 독립변수로 두어 학습시키면 승패를 예측할 수 있는 프로그램을 만들 수 있을 것이다.<br>\n",
    "(플레이어들의 승률 향상은 직접적으로 판단하기 힘들기 때문에 예측하는 프로그램을 만드는 것으로 가설을 수정하였습니다.)"
   ]
  },
  {
   "cell_type": "markdown",
   "metadata": {},
   "source": [
    "## 인터넷을 통한 데이터 획득"
   ]
  },
  {
   "cell_type": "markdown",
   "metadata": {},
   "source": [
    "Kaggle에서 리그 오브 레전드 하이 엘로 랭크 게임 (2020)이라는 데이터를 얻을 수 있었습니다.<br>\n",
    "이 데이터에는 챌린저 26000 게임, 그랜드 마스터 65000 게임, 마스터 100000 게임에 관해 승리팀과 패배팀의 승패에 영향을 줄 수 있는 주요 정보들을 포함하고 있습니다. 블루팀과 레드팀 중 어떠한 팀이 이겼는지, 그 게임에서 퍼블(First Blood)은 어느 팀이 가져갔는지, 드래곤과 바론과 같은 주요 오브젝트를 어느 팀이 먼저 처치 했는지, 각 팀의 총 킬수 등의 정보를 포함하고 있습니다.<br>\n",
    "데이터 획득 경로: https://www.kaggle.com/gyejr95/league-of-legends-challenger-ranked-games2020<br><br>\n",
    "\n",
    "원본데이터: Challenger_Ranked_Games , GrandMaster_Ranked_Games, Master_Ranked_Games"
   ]
  },
  {
   "cell_type": "markdown",
   "metadata": {},
   "source": [
    "## 추가 데이터 설명"
   ]
  },
  {
   "cell_type": "markdown",
   "metadata": {},
   "source": [
    "- 리그 오브 레전드는 5명의 캐릭터로 구성된 양 팀(블루팀, 레드팀)으로 나누어져 상대의 최종 기지(넥서스)를 파괴하면 승리하는 게임입니다.\n",
    "- League of Legend의 다양한 모드 중 공격로가 3개인 소환사의 협곡 모드의 개인 랭크에 관한 데이터입니다\n",
    "- 각 공격로에는 3개의 포탑과 1개의 억제기라는 구조물이 있습니다. 최종 기지(넥서스)에 도달하려면 먼저 제거를 해야 하는 구조물들입니다. 적의 포탑을 먼저 파괴한 팀에게는 추가 골드 보상이 주어지므로 먼저 포탑을 제거한 팀은 게임 초반을 유리하게 가져갈 수 있습니다.\n",
    "- Gold: 캐릭터를 강화할 수 있는 아이템을 구매할 수 있습니다.\n",
    "- Level: 최대 18레벨까지 있으며 레벨이 증가하면 캐릭터의 전체 능력치가 향상됩니다. 경험치를 통해 레벨을 상승시킬 수 있으며 상대와 레벨 격차를 벌리게 되면 게임을 유리하게 가져갈 수 있습니다.\n",
    "- Kill: 상대 캐릭터를 처치하는 행위를 말합니다. 처치 시 많은 골드를 주고 경험치를 얻을 수 있습니다. 또한 처치된 상대는 레벨에 따라 정해진 시간 동안 게임에 참여할 수 없습니다. 따라서 킬을 통해 상대방과의 격차를 벌리며 상대의 기지를 파괴할 수 있어 게임을 유리하게 가져갈 수 있습니다. \n",
    "- Assist: 킬을 따는 데 도움을 준 같은 팀 플레이어들은 Assist를 얻고 약간의 경험치와 골드를 얻습니다.\n",
    "- Minion: 캐릭터와 함께 적과 싸우는 유닛으로 적 유닛 처치 시 골드와 경험치를 얻을 수 있습니다. 따라서 미니언을 얼마나 잘 처치하는지에 따라 캐릭터가 강력해질 수 있습니다. 미니언 처치는 팀보다는 각 플레이어에 큰 영향을 주므로 분석에서 제외하였습니다.\n",
    "- Ward: 소환사의 협곡 모드에서는 자신의 진영과 포탑 근처 외에는 시야가 가려져 있습니다. 따라서 와드라는 시야 확장 도구를 통해 시야를 넓힘으로써 상대방이 어떠한 행동을 하는지 파악하여 그에 맞는 전술을 펼칠 수 있기 때문에 게임 승리를 위한 중요한 요소 중 하나입니다. 한 캐릭터가 설치할 수 있는 와드의 개수가 제한되어 있으므로 시야를 넓게 확장하려면 팀원들 모두가 와드 설치를 해야하므로 보통 팀 전체 와드 설치 개수가 많으면 시야를 잘 확장했다고 판단할 예정입니다. 상대방이 우리 팀의 와드를 발견하게 되면 상대방이 지울 수 있고 종류에 따라 일정 시간이 지나면 사라지기도 하기때문에 실제 게임에서는 얼마나 자주 설치하며 우리 팀의 시야는 지키되 상대방의 시야는 얼마나 차단했는 지가 중요합니다. 하지만 이는 어디에 얼마나 자주 설치하냐 등 다양한 변수가 존재하기때문에 와드설치와 승패에 연관성 분석하기 위해서는 더 복잡한 데이터가 필요합니다. 따라서 이번 분석에서는 상대방보다 얼마나 많은 와드를 설치했는가를 상대방보다 시야를 잘 확보했다고 판단하여 분석에 사용할 것입니다.\n",
    "- Baron: 주요 오브젝트 중 하나로 처치 시  일정 시간 동안 캐릭터가 강해지며 근처 미니언들이 강화되어 게임을 유리하게 가져갈 수 있습니다.\n",
    "- Dragon: 주요 오브젝트 중 하나로 드래곤의 종류에 따라 다양한 버프를 게임이 끝날 때까지 가져갈 수 있습니다. 드래곤을 4번 처치시 추가 버프를 얻을 수 있고 장로 드래곤이라는 버프 획득 시 일정 시간동안 캐릭터가 강해질 수 있음으로 드래곤 처치 시 게임을 유리하게 가져갈 수 있습니다."
   ]
  },
  {
   "cell_type": "markdown",
   "metadata": {},
   "source": [
    "## 분석을 위한 데이터 가공"
   ]
  },
  {
   "cell_type": "markdown",
   "metadata": {},
   "source": [
    "데이터분석을 편리하게 하기 위해 Challenger, Grandmaster, Master의 데이터들을 하나의 Dataframe으로 합친 뒤, 필요 없는 데이터들을 제외하였습니다.<br>\n",
    "제외한 데이터 선별기준은 다음과 같습니다.<br>\n",
    "1. 게임 플레이 시간에 관련 있는 데이터<br>\n",
    "['gameDuraton']<br><br>\n",
    "2. 추가적인 정보가 필요한 데이터\n",
    "예를 들어 FirstInhibitor(억제기를 먼저 제거한 팀)은 어떤 팀이 먼저 제거했는지 보다 어떤 타이밍, 시간에 제거했는 지가 중요한 변수이기 때문에 추가적인 정보를 알 수 없어 제외했습니다. 이처럼 플레이어별 수치, 사건이 발생한 시간대 등 추가 정보가 필요하다고 생각한 요소들은 모두 제외했습니다.<br> ['blueFirstTower','blueFirstBaron','blueFirstDragon','blueFirstInhibitor','blueTowerKills','blueInhibitorKills','blueWardkills','blueChampionDamageDealt',<br>'blueTotalMinionKills','blueTotalLevel','blueJungleMinionKills','blueKillingSpree','blueTotalHeal','blueObjectDamageDealt','redFirstTower','redFirstBaron',<br>'redFirstDragon','redFirstInhibitor','redWardkills','redChampionDamageDealt','redTotalMinionKills','redTotalLevel','redJungleMinionKills','redKillingSpree',<br>'redTotalHeal','redObjectDamageDealt']<br>\n",
    "+blueFirstBlood는 추가정보가 필요하지만, FirstBlood를 중요한 요소라고 생각하는 플레이어들이 많기에 검증하고자 분석에 추가했습니다. <br><br>\n",
    "3. 게임 승리와 관련이 없는 데이터<br>\n",
    "['gameId']<br><br>\n",
    "4. 레드팀에 관한 데이터<br>\n",
    "['redWins','redFirstBlood']<br>\n",
    "남은 레드팀에 대한 데이터는 블루팀과의 차이를 구한 뒤 제거하였습니다.<br><br>\n",
    "\n",
    "블루팀에 대해 분석할 데이터들 중 blueFirstBlood는 결과값이 0(레드팀이 firstblood를 가져감),1(블루팀이 fristblood를 가져감)으로 이분법적으로<br>\n",
    "나와있어 상관없지만 다른 데이터들은 게임 시간에 대한 데이터를 제외했기 때문에 절대적인 양보다는 상대 팀과의 격차가 중요하기 때문에<br>\n",
    "(블루팀)-(레드팀)으로 데이터를 가공하여 분석에 사용했습니다.<br>\n",
    "종속변수는 blueWins이고, 독립변수로 사용할 데이터들을 정리하면 다음과 같습니다.<br>\n",
    "1)blueFirstBlood 2)DragonKills 3)BaronKills 4)WardPlaced 5)Kills 6)Death 7)TotalGold 8)AvgLevel<br>\n",
    "\n",
    "\n",
    "데이터 가공 소스코드: 데이터가공_2020105724_이재준.ipynb"
   ]
  },
  {
   "cell_type": "markdown",
   "metadata": {},
   "source": [
    "# 분석결과 도출"
   ]
  },
  {
   "cell_type": "markdown",
   "metadata": {},
   "source": [
    "## 1. 각 독립변수들과 종속변수의 상관분석"
   ]
  },
  {
   "cell_type": "code",
   "execution_count": 1,
   "metadata": {},
   "outputs": [],
   "source": [
    "from IPython.display import Image"
   ]
  },
  {
   "cell_type": "markdown",
   "metadata": {},
   "source": [
    "위에서부터\n",
    "blueFirstBlood_analysis<br>\n",
    "DragonKills_analysis<br>\n",
    "Baronkills_analysis<br>\n",
    "WardPlaced_analysis<br>\n",
    "Kills_analysis<br>\n",
    "Death_analysis<br>\n",
    "Assist_analysis<br>\n",
    "Gold_analysis<br>\n",
    "AvgLevel_analysis 을 상관관계 분석한 결과입니다.(000_analysis는 blueWins와 000의 상관관계를 분석할 결과입니다.)\n",
    "![correlation_result](correlation_result.png)\n",
    "일반적인 p-value 기준을 따라 p-value 기준을 0.05로 두면 위 결과에서 p-value는 0.00으로 기준보다 작습니다.<br>\n",
    "따라서 귀무가설을 기각하고 대립가설을 채택합니다.<br>\n",
    "그다음 일반적으로 피어슨 r이 0.30이면 두 변인은 약한(weak) 관계, 0.50이면 중간(moderate) 관계, 그리고 0.70이면 강한(strong) 관계를 나타내므로 0.50 이상일 때를 유의미한 관계라고 보고 회귀분석에 사용하였습니다.<br>\n",
    "Death_analysis는 피어슨 r이 음수이지만 (블루팀)-(레드팀)으로 계산한 값이기에 블루팀이 레드팀보다 덜 죽을수록으로 해석할 수 있습니다.<br> 따라서 절댓값을 씌우면 피어슨 상관계수가 0.8350200494081671으로 상당히 강한 관계를 나타낸다고 볼 수 있기에 회귀분석에 사용하였습니다.<br><br>\n",
    "상관계수를 한 눈에 알아보기 위해 막대그래프로 상관계수를 시각화 하였습니다.<br>\n",
    "(얼마나 유의미한 관계인지를 알아보기 위한 작업이기에 Death의 상관계수 값은 절대값으로 나타내었습니다.<br>\n",
    "![correlation_result_visualized](correlation_result_visualized.png)\n",
    "첫 번째 목표인 상관관계가 높은 순서대로 3개의 주요 승리 요건을 선별하면 다음과 같습니다.<br>\n",
    "1. Gold\n",
    "2. AvgLevel\n",
    "3. Kills\n"
   ]
  },
  {
   "cell_type": "markdown",
   "metadata": {},
   "source": [
    "## 2. 로지스틱 회귀 분석"
   ]
  },
  {
   "cell_type": "markdown",
   "metadata": {},
   "source": [
    "위에서 유의미한 관계를 가지는(피어슨 r이 0.50 이상) 독립변수들과 종속변수인 게임의 승패를 로지스틱 회귀분석을 한 결과는 다음과 같습니다. \n",
    "![logisticregression_result](logisticregression_result.png)\n",
    "LLR p-value가 0이므로 통계적으로 유의한 결과라고 볼 수 있고, 의사-결정계수(Pseudo R-squ)가 1에 근접하므로 성능이 좋은 모델이라고 판단할 수 있습니다.또한 Pseudo R-squ가 0.9165로 0.9 이상이므로 설명력이 높다고 볼 수 있습니다.<br> \n",
    "따라서 분석을 통해 구한 회귀식을 이용해 유의미한 승패 예측을 할 수 있을 것입니다.\n",
    "\n",
    "\n",
    "\n",
    "\n",
    "1,2 데이터 분석 소스코드: 데이터분석(상관관계,로지스틱회귀분석)_ 2020105724_ 이재준.ipynb"
   ]
  },
  {
   "cell_type": "markdown",
   "metadata": {},
   "source": [
    "## 3. 승패 예측 프로그램 작성"
   ]
  },
  {
   "cell_type": "markdown",
   "metadata": {},
   "source": [
    "계수가 0.0973이고 나머지 독립변수들을 각각 미지수로 두어 일차식을 만들어 회귀식을 계산해주는 함수를 만들었습니다.\n",
    "<br> 0을 기준으로 음의 값으로 멀리 떨어질수록 패배할 확률이 크고, 양의 값으로 멀리 떨어질수록 승리할 확률이 크다고 판단할 수 있습니다.\n",
    "\n",
    "3 데이터 분석 소스코드: 승패예측프로그램_ 2020105724_ 이재준.ipynb"
   ]
  },
  {
   "cell_type": "markdown",
   "metadata": {},
   "source": [
    "# 결론"
   ]
  },
  {
   "cell_type": "markdown",
   "metadata": {},
   "source": [
    " 상관관계 분석을 통해 상관계수가 높은 상위 3개의 독립변수을 찾을 수 있었습니다. 1.Gold 2.AvgLevel 3.Kills 순서대로 상관관계가 높기에 이를 주요 승리 요건에 해당한다고 판단할 수 있었습니다. 또한 상관계수가 0.5 이상인 (Death의 경우에는 절댓값으로 계산) 독립변수들을 종속변수인 승리와 유의미한 관계를 맺고 있다고 판단하여 회귀분석에 포함했고, 이를 통해 회귀식을 얻을 수 있었습니다.<br> 회귀식을 바탕으로 \n",
    "``\n",
    "prediction = 0.0973+ 0.1736*DragonKills+0.1515*Kills+0.1910*Death+0.0073*Assist+0.0006*Gold+2.1980*AvgLevel\n",
    "`` \n",
    "을 계산해주는 함수를 제작하였습니다.<br>\n",
    "상대팀과의 격차가 유리한 방향으로 크다면 0에서부터 멀리 떨어진 양의 값이 나오고, 상대팀과의 격차가 불리한 방향으로 크다면 0에서부터 멀리 떨어진 음의 값이 나오는 것을 확인하였고, 게임이 비등하게 흘러가 격차가 크지 않거나, 역전승한 것으로 판단되는 경우에는 예측값이 정확하지 않다는 것을 확인할 수 있었습니다.<br>\n",
    "League of Legend라는 게임은 수많은 변수가 존재하기 때문에 주요 변수들만으로는 완벽하게 승패를 예측하는 프로그램을 만들기는 어려웠다고 생각합니다. 하지만 어느 정도 격차가 있는 게임들의 승패는 성공적으로 예측할 수 있었으므로 더 다양한 변수들과 게임데이터들을 통해 모델을 학습시킨다면 보다 신뢰성 있는 예측프로그램을 만들 수 있겠다고 결론을 내렸습니다. "
   ]
  },
  {
   "cell_type": "markdown",
   "metadata": {},
   "source": [
    "# 참고문헌"
   ]
  },
  {
   "cell_type": "markdown",
   "metadata": {},
   "source": [
    "-kaggle, \"League of Legneds\", https://www.kaggle.com/gyejr95/league-of-legends-challenger-ranked-games2020 (2020.5.4)<br>\n",
    "-pandas - Python Data Analysis Library,\"pandas\", https://pandas.pydata.org/docs/index.html, (2020.5.30) <br>\n",
    "-statsmodels, \"statsmodels\", https://www.statsmodels.org/stable/index.html (2020.5.30) <br>\n",
    "-stackoverflow, \"stackoverflow\",https://stackoverflow.com/questions/26920515/score-statsmodels-logit, (2020.5.30) <br>\n",
    "-Youtube-메모밍 채널,\"[파이썬] 데이터 분석을 위한 파이썬 [06]~[09], https://www.youtube.com/watch?v=Igo0g8POfHQ&list=PL-QFFQeuiKKsvRLFeOgu594EmqdM-9ZBI&index=6, (2020.5.29) <br>\n",
    "-Youtube-동빈나, \"머신러닝의 기초 - 선형 회귀 한 번에 제대로 이해하기 (30분만 투자해봐요!)\",https://www.youtube.com/watch?v=ve6gtpZV83E, (2020.5.26) <br>\n",
    "-Common Sense Science & Engineering, \"파이썬 상관계수 함수\", https://blog.naver.com/choi_s_h/221666813015, (2020.5.30)<br>\n",
    "-초박막형 지식 블로그, \"상관관계 분석\", https://blog.naver.com/parksehoon1971/221576394512, (2020.5.30)<br>\n",
    "-패턴분석가의 머신러닝 딥러닝 분석방, \"로지스틱 회귀분석\", https://blog.naver.com/jaehong7719/221911585205 (2020.6.3)<br>\n",
    "-앨런 다우니,\"씽크파이썬\", 길벗(2017), p55:59<br>\n",
    "-명목형 로지스틱 회귀 분석에 대한 모든 통계량 해석,\"로지스틱 회귀 분석\",https://support.minitab.com/ko-kr/minitab/18/help-and-how-to/modeling-statistics/regression/how-to/nominal-logistic-regression/interpret-the-results/all-statistics/, (2020.6.3) <br>\n",
    "-Le Nuit, \"로지스틱 회귀분석 예제\", https://blog.naver.com/eqfq1/221450974703, (2020.6.3) <br>\n",
    "-조대협의 블로그, \"파이썬을 이용한 데이터 시각화#1 -Matplotlib 기본 그래프 그리기\", https://bcho.tistory.com/1201, (2020.06.06)\n",
    "-code cleaner, \"[파이썬-matplotlib] 여러 차트 그리기\",https://cleancode-ws.tistory.com/65, (2020.06.06)\n",
    "-matplotlib,https://matplotlib.org/3.2.1/index.html,(2020.06.06)"
   ]
  }
 ],
 "metadata": {
  "kernelspec": {
   "display_name": "Python 3",
   "language": "python",
   "name": "python3"
  },
  "language_info": {
   "codemirror_mode": {
    "name": "ipython",
    "version": 3
   },
   "file_extension": ".py",
   "mimetype": "text/x-python",
   "name": "python",
   "nbconvert_exporter": "python",
   "pygments_lexer": "ipython3",
   "version": "3.7.6"
  }
 },
 "nbformat": 4,
 "nbformat_minor": 4
}
