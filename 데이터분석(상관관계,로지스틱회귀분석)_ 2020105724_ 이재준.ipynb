{
 "cells": [
  {
   "cell_type": "code",
   "execution_count": 1,
   "metadata": {},
   "outputs": [
    {
     "name": "stdout",
     "output_type": "stream",
     "text": [
      "(0.20656252125392963, 0.0)\n",
      "(0.5816234806972731, 0.0)\n",
      "(0.4886521467746083, 0.0)\n",
      "(0.19297913850223813, 0.0)\n",
      "(0.8355495607857073, 0.0)\n",
      "(-0.8350200494081671, 0.0)\n",
      "(0.7578872054740988, 0.0)\n",
      "(0.8951271114391517, 0.0)\n",
      "(0.8814136857155997, 0.0)\n",
      "Optimization terminated successfully.\n",
      "         Current function value: 0.057893\n",
      "         Iterations 10\n",
      "                           Logit Regression Results                           \n",
      "==============================================================================\n",
      "Dep. Variable:               blueWins   No. Observations:               199925\n",
      "Model:                          Logit   Df Residuals:                   199918\n",
      "Method:                           MLE   Df Model:                            6\n",
      "Date:                Thu, 11 Jun 2020   Pseudo R-squ.:                  0.9165\n",
      "Time:                        13:43:49   Log-Likelihood:                -11574.\n",
      "converged:                       True   LL-Null:                   -1.3857e+05\n",
      "Covariance Type:            nonrobust   LLR p-value:                     0.000\n",
      "===============================================================================\n",
      "                  coef    std err          z      P>|z|      [0.025      0.975]\n",
      "-------------------------------------------------------------------------------\n",
      "Intercept       0.0973      0.017      5.591      0.000       0.063       0.131\n",
      "DragonKills     0.1736      0.012     14.922      0.000       0.151       0.196\n",
      "Kills           0.1515      0.033      4.564      0.000       0.086       0.217\n",
      "Death           0.1910      0.033      5.758      0.000       0.126       0.256\n",
      "Assist          0.0073      0.001      6.523      0.000       0.005       0.009\n",
      "Gold            0.0006   8.47e-06     75.775      0.000       0.001       0.001\n",
      "AvgLevel        2.1980      0.042     52.748      0.000       2.116       2.280\n",
      "===============================================================================\n",
      "\n",
      "Possibly complete quasi-separation: A fraction 0.40 of observations can be\n",
      "perfectly predicted. This might indicate that there is complete\n",
      "quasi-separation. In this case some parameters will not be identified.\n"
     ]
    },
    {
     "data": {
      "image/png": "[encoded data removed]",
      "text/plain": [
       "<Figure size 1440x720 with 1 Axes>"
      ]
     },
     "metadata": {
      "needs_background": "light"
     },
     "output_type": "display_data"
    }
   ],
   "source": [
    "import pandas as pd\n",
    "\n",
    "UsingData_df = pd.DataFrame(pd.read_excel(\"FinalData.xlsx\"))\n",
    "UsingData_df.columns = [\"number\",\"blueWins\",\"blueFirstBlood\",\"DragonKills\",\"Baronkills\",\"WardPlaced\",\"Kills\",\"Death\",\"Assist\",\"Gold\",\"AvgLevel\"]\n",
    "UsingData_df.drop(\"number\",axis=1,inplace=True)  #불필요한 열 제거\n",
    "\n",
    "import scipy.stats as stats\n",
    "#각각의 독립변수와 종속변인간의 상관계수 분석\n",
    "\n",
    "blueFirstBlood_analysis = stats.pearsonr(UsingData_df.blueWins,UsingData_df.blueFirstBlood)\n",
    "print(blueFirstBlood_analysis)\n",
    "\n",
    "DragonKills_analysis = stats.pearsonr(UsingData_df.blueWins,UsingData_df.DragonKills)\n",
    "print(DragonKills_analysis)\n",
    "\n",
    "Baronkills_analysis = stats.pearsonr(UsingData_df.blueWins,UsingData_df.Baronkills)\n",
    "print(Baronkills_analysis)\n",
    "\n",
    "WardPlaced_analysis = stats.pearsonr(UsingData_df.blueWins,UsingData_df.WardPlaced)\n",
    "print(WardPlaced_analysis)\n",
    "\n",
    "Kills_analysis = stats.pearsonr(UsingData_df.blueWins,UsingData_df.Kills)\n",
    "print(Kills_analysis)\n",
    "\n",
    "Death_analysis = stats.pearsonr(UsingData_df.blueWins,UsingData_df.Death)\n",
    "print(Death_analysis)\n",
    "\n",
    "Assist_analysis = stats.pearsonr(UsingData_df.blueWins,UsingData_df.Assist)\n",
    "print(Assist_analysis)\n",
    "\n",
    "Gold_analysis = stats.pearsonr(UsingData_df.blueWins,UsingData_df.Gold)\n",
    "print(Gold_analysis)\n",
    "\n",
    "AvgLevel_analysis = stats.pearsonr(UsingData_df.blueWins,UsingData_df.AvgLevel)\n",
    "print(AvgLevel_analysis)\n",
    "\n",
    "#상관분석 시각화(Death값은 작을수록 상관관계가 높다고 해석하여, 얼마나 유의미한 관계인지를 보기위해 절댓값으로 계산하였습니다.)\n",
    "import numpy as np\n",
    "import matplotlib.pyplot as plt\n",
    "\n",
    "IndependentVariable_Name=['blueFirstBlood','DragonKills','Baronkills','WardPlaced,Kills','Death','Assist','Gold','AvgLevel']\n",
    "result_value=[0.20656252125392963,0.5816234806972731,0.4886521467746083,0.19297913850223813,0.8355495607857073,0.8350200494081671,0.7578872054740988,0.8951271114391517]\n",
    "plt.figure(figsize=(20,10))\n",
    "plt.bar(IndependentVariable_Name,result_value, width = 0.5, color = 'red')\n",
    "plt.title(\"Correlation Analysis\")\n",
    "plt.xlabel(\"Independent Variable\")\n",
    "plt.ylabel(\"Correlation coefficient(absolute value)\")\n",
    "plt.show\n",
    "\n",
    "#로지스틱 회귀분석\n",
    "from sklearn.linear_model import LogisticRegression\n",
    "from sklearn.model_selection import train_test_split\n",
    "import statsmodels.api as sm\n",
    "\n",
    "studymodel_df = sm.Logit.from_formula(\"blueWins ~ DragonKills + Kills + Death + Assist + Gold + AvgLevel \", UsingData_df)\n",
    "resultmodel_df = studymodel_df.fit()\n",
    "print(resultmodel_df.summary())"
   ]
  }
 ],
 "metadata": {
  "kernelspec": {
   "display_name": "Python 3",
   "language": "python",
   "name": "python3"
  },
  "language_info": {
   "codemirror_mode": {
    "name": "ipython",
    "version": 3
   },
   "file_extension": ".py",
   "mimetype": "text/x-python",
   "name": "python",
   "nbconvert_exporter": "python",
   "pygments_lexer": "ipython3",
   "version": "3.7.6"
  }
 },
 "nbformat": 4,
 "nbformat_minor": 4
}
