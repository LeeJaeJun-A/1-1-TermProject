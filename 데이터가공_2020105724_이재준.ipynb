{
 "cells": [
  {
   "cell_type": "code",
   "execution_count": 2,
   "metadata": {},
   "outputs": [],
   "source": [
    "import pandas as pd"
   ]
  },
  {
   "cell_type": "code",
   "execution_count": 3,
   "metadata": {},
   "outputs": [],
   "source": [
    "chanllenger_df= pd.read_csv(\"Challenger_Ranked_Games.csv\") #Challenger,Grandmaster,Master 데이터파일 불러와서 DataFrame만들기\n",
    "grandmaster_df= pd.read_csv(\"GrandMaster_Ranked_Games.csv\")\n",
    "master_df= pd.read_csv(\"Master_Ranked_Games.csv\")\n",
    "\n",
    "frames= [chanllenger_df, grandmaster_df, master_df]\n",
    "all_df=pd.concat(frames, ignore_index=True)#세 DataFrame 합치기\n",
    "#사용하지 않을 열 제거\n",
    "all2_df = all_df.drop(['gameId','gameDuraton','blueFirstTower','blueFirstBaron','blueFirstDragon','blueFirstInhibitor','blueTowerKills',\n",
    "             'blueInhibitorKills','blueWardkills','blueChampionDamageDealt','blueTotalMinionKills','blueTotalLevel','blueJungleMinionKills'\n",
    "             ,'blueKillingSpree','blueTotalHeal','blueObjectDamageDealt','redWins','redFirstBlood','redFirstTower','redFirstBaron',\n",
    "             'redFirstDragon','redFirstInhibitor','redTowerKills','redInhibitorKills','redWardkills','redChampionDamageDealt',\n",
    "             'redTotalMinionKills','redTotalLevel','redJungleMinionKills','redKillingSpree','redTotalHeal','redObjectDamageDealt'], axis=1)\n",
    " #블루팀-레드팀으로 값을 계산\n",
    "all2_df['blueDragonKills']= all2_df['blueDragonKills']-all2_df['redDragonKills']\n",
    "all2_df['blueBaronKills']= all2_df['blueBaronKills']-all2_df['redBaronKills']\n",
    "all2_df['blueWardPlaced']= all2_df['blueWardPlaced']-all2_df['redWardPlaced']\n",
    "all2_df['blueKills']= all2_df['blueKills']-all2_df['redKills']\n",
    "all2_df['blueDeath']= all2_df['blueDeath']-all2_df['redDeath']\n",
    "all2_df['blueAssist']= all2_df['blueAssist']-all2_df['redAssist']\n",
    "all2_df['blueTotalGold']= all2_df['blueTotalGold']-all2_df['redTotalGold']\n",
    "all2_df['blueAvgLevel']= all2_df['blueAvgLevel']-all2_df['redAvgLevel']\n",
    "#연산 후 레드팀 데이터 필요없으니까 제거\n",
    "all3_df = all2_df.drop(['redDragonKills','redBaronKills','redWardPlaced','redKills','redDeath','redAssist','redTotalGold','redAvgLevel'], axis=1)\n",
    "\n",
    "all3_df=all3_df.rename(columns={all3_df.columns[2]:\"DragonKills\",all3_df.columns[3]:\"Baronkills\",all3_df.columns[4]:\"WardPlaced\",\n",
    "                       all3_df.columns[5]:\"Kills\",all3_df.columns[6]:\"Death\",all3_df.columns[7]:\"Assist\",all3_df.columns[8]:\"Gold\",\n",
    "                       all3_df.columns[9]:\"AvgLevel\"})\n",
    "all3_df.to_excel('FinalData.xlsx') # 가공한 데이터를 FinalData.xlsx로 저장\n"
   ]
  }
 ],
 "metadata": {
  "kernelspec": {
   "display_name": "Python 3",
   "language": "python",
   "name": "python3"
  },
  "language_info": {
   "codemirror_mode": {
    "name": "ipython",
    "version": 3
   },
   "file_extension": ".py",
   "mimetype": "text/x-python",
   "name": "python",
   "nbconvert_exporter": "python",
   "pygments_lexer": "ipython3",
   "version": "3.7.6"
  }
 },
 "nbformat": 4,
 "nbformat_minor": 4
}
